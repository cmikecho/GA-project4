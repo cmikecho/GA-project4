{
 "cells": [
  {
   "cell_type": "markdown",
   "metadata": {},
   "source": [
    "# Final Project\n",
    "\n",
    "### General Assembly Data Science Course (datr02apac)\n",
    "\n",
    "#### Mike Cho\n"
   ]
  },
  {
   "cell_type": "markdown",
   "metadata": {},
   "source": [
    "## Part 1: *Proposal*\n",
    "\n",
    "#### Problem statement relevant to a business problem affecting the team and company.\n",
    "\n",
    "In August 2016, Bloomberg L.P. announced its acquisition of Barclays Risk Analytics and Index Solutions (\"BRAIS\") from Barclays. With the $787 Million acquisition, Bloomberg co-branded the  widely-used Barclays Fixed Income benchmark indices into \"Bloomberg Barclays Indices\". \n",
    "\n",
    "After the acquisition, the Bloomberg Barclays Index dataset have been made available to clients who subscribe to the Bloomberg Professional Service. Also, the Fixed Income Division has developed additional valuation and risk data sets using company's market data and valuation model so that Investors can combine these data set for Investment Analysis. \n",
    "\n",
    "The goal of this project is to determine whether the Bloomberg valuation models are useful in analyzing and hence predicting investment opportunity for the securities available within the *Bloomberg Barclays Corporate Aggregate Index*."
   ]
  },
  {
   "cell_type": "markdown",
   "metadata": {},
   "source": [
    "#### Hypothesis and Assumption\n",
    "\n",
    "*Hypothesis*: Bloomberg market data (ie. The Bloomberg Default Risk Probability Rate) are important data points for predicting the credit prices of the Bloomberg Barclays Index Bonds. The available data points can be used to generate new investment ideas.\n",
    "\n",
    "*Assumption*: The data set for this project is based on a specific point in time. The assumption is that the provided data set correctly reflect and measure the market levels. \n",
    "\n",
    "*Risks and Limitation* : In order to fully validate the hypothesis and the models, it would be more accurate to perform the analysis on a time series basis. Validation of the testing set on different point-in-time datasets will enhance the validity of this model."
   ]
  },
  {
   "cell_type": "markdown",
   "metadata": {},
   "source": [
    "#### Identify at least one relevant internal dataset and confirm that you have (or can get) the right access permissions.\n",
    "\n",
    "All data set is available for internal employees and clients who subscribed to the Bloomberg Professional Services via the Bloomberg API.\n"
   ]
  },
  {
   "cell_type": "markdown",
   "metadata": {},
   "source": [
    "## Part 2: *Brief*\n",
    "\n",
    "1. Create an Exploratory data anlysis notebook.\n",
    "2. Perform statistical analysis, along with any visualizations.\n",
    "3. Determine how to handle sampling or missing values.\n",
    "4. Clearly identify shortcomings, assumptions, and next steps."
   ]
  },
  {
   "cell_type": "code",
   "execution_count": 132,
   "metadata": {},
   "outputs": [],
   "source": [
    "import pandas as pd\n",
    "import numpy as np\n",
    "from datetime import datetime\n",
    "import seaborn as sns\n",
    "from matplotlib import pyplot as plt\n",
    "%matplotlib inline\n",
    "plt.style.use('fivethirtyeight') "
   ]
  },
  {
   "cell_type": "markdown",
   "metadata": {},
   "source": [
    "#### Import the downloaded data set via Bloomberg API\n"
   ]
  },
  {
   "cell_type": "code",
   "execution_count": 133,
   "metadata": {},
   "outputs": [
    {
     "data": {
      "text/html": [
       "<div>\n",
       "<style scoped>\n",
       "    .dataframe tbody tr th:only-of-type {\n",
       "        vertical-align: middle;\n",
       "    }\n",
       "\n",
       "    .dataframe tbody tr th {\n",
       "        vertical-align: top;\n",
       "    }\n",
       "\n",
       "    .dataframe thead th {\n",
       "        text-align: right;\n",
       "    }\n",
       "</style>\n",
       "<table border=\"1\" class=\"dataframe\">\n",
       "  <thead>\n",
       "    <tr style=\"text-align: right;\">\n",
       "      <th></th>\n",
       "      <th>ISIN</th>\n",
       "      <th>DESCRIPTION</th>\n",
       "      <th>Par Value</th>\n",
       "      <th>PRICE</th>\n",
       "      <th>MARKET_VALUE</th>\n",
       "      <th>WEIGHT</th>\n",
       "      <th>ISSUE_DT</th>\n",
       "      <th>MATURITY</th>\n",
       "      <th>BICS_LEVEL_1_SECTOR_NAME</th>\n",
       "      <th>AMT_ISSUED</th>\n",
       "      <th>...</th>\n",
       "      <th>EBITDA_TO_INTEREST_EXPN</th>\n",
       "      <th>BB_1YR_DEFAULT_PROB</th>\n",
       "      <th>RSK_BB_IMPLIED_CDS_SPREAD</th>\n",
       "      <th>GUARANTOR</th>\n",
       "      <th>INVESTMENT_GRADE</th>\n",
       "      <th>DUR_MID</th>\n",
       "      <th>CNVX_MID</th>\n",
       "      <th>YAS_YLD_SPREAD</th>\n",
       "      <th>YAS_OAS_SPRD</th>\n",
       "      <th>Z_SPRD_MID</th>\n",
       "    </tr>\n",
       "  </thead>\n",
       "  <tbody>\n",
       "    <tr>\n",
       "      <th>0</th>\n",
       "      <td>US36164QNA21</td>\n",
       "      <td>GE 4.418 11/15/35</td>\n",
       "      <td>11406510</td>\n",
       "      <td>82.323</td>\n",
       "      <td>9427977</td>\n",
       "      <td>0.185846</td>\n",
       "      <td>7/1/2016</td>\n",
       "      <td>11/15/2035</td>\n",
       "      <td>Financials</td>\n",
       "      <td>11406510000</td>\n",
       "      <td>...</td>\n",
       "      <td>-1.326189611</td>\n",
       "      <td>0.010987</td>\n",
       "      <td>185.0</td>\n",
       "      <td>1</td>\n",
       "      <td>1</td>\n",
       "      <td>11.480111</td>\n",
       "      <td>1.633037</td>\n",
       "      <td>294.5602</td>\n",
       "      <td>311.078146</td>\n",
       "      <td>309.6319234</td>\n",
       "    </tr>\n",
       "    <tr>\n",
       "      <th>1</th>\n",
       "      <td>US03522AAF75</td>\n",
       "      <td>ABIBB 4.9 02/01/46</td>\n",
       "      <td>9542514</td>\n",
       "      <td>95.079</td>\n",
       "      <td>9243075</td>\n",
       "      <td>0.182201</td>\n",
       "      <td>11/13/2018</td>\n",
       "      <td>2/1/2046</td>\n",
       "      <td>Consumer Staples</td>\n",
       "      <td>9542514000</td>\n",
       "      <td>...</td>\n",
       "      <td>4.967083913</td>\n",
       "      <td>0.000152</td>\n",
       "      <td>90.0</td>\n",
       "      <td>1</td>\n",
       "      <td>1</td>\n",
       "      <td>14.725055</td>\n",
       "      <td>3.033038</td>\n",
       "      <td>207.1131</td>\n",
       "      <td>220.910202</td>\n",
       "      <td>221.4321032</td>\n",
       "    </tr>\n",
       "    <tr>\n",
       "      <th>2</th>\n",
       "      <td>US126650CX62</td>\n",
       "      <td>CVS 4.3 03/25/28</td>\n",
       "      <td>9000000</td>\n",
       "      <td>97.864</td>\n",
       "      <td>8890534</td>\n",
       "      <td>0.175251</td>\n",
       "      <td>3/9/2018</td>\n",
       "      <td>3/25/2028</td>\n",
       "      <td>Health Care</td>\n",
       "      <td>9000000000</td>\n",
       "      <td>...</td>\n",
       "      <td>11.29566855</td>\n",
       "      <td>0.000289</td>\n",
       "      <td>107.0</td>\n",
       "      <td>0</td>\n",
       "      <td>1</td>\n",
       "      <td>7.659566</td>\n",
       "      <td>0.671107</td>\n",
       "      <td>166.7436</td>\n",
       "      <td>162.978589</td>\n",
       "      <td>164.5156153</td>\n",
       "    </tr>\n",
       "    <tr>\n",
       "      <th>3</th>\n",
       "      <td>US03522AAD28</td>\n",
       "      <td>ABIBB 3.65 02/01/26</td>\n",
       "      <td>8555163</td>\n",
       "      <td>94.695</td>\n",
       "      <td>8214941</td>\n",
       "      <td>0.161934</td>\n",
       "      <td>11/13/2018</td>\n",
       "      <td>2/1/2026</td>\n",
       "      <td>Consumer Staples</td>\n",
       "      <td>8555163000</td>\n",
       "      <td>...</td>\n",
       "      <td>4.967083913</td>\n",
       "      <td>0.000152</td>\n",
       "      <td>90.0</td>\n",
       "      <td>1</td>\n",
       "      <td>1</td>\n",
       "      <td>6.230380</td>\n",
       "      <td>0.436189</td>\n",
       "      <td>164.9950</td>\n",
       "      <td>157.382648</td>\n",
       "      <td>158.6176031</td>\n",
       "    </tr>\n",
       "    <tr>\n",
       "      <th>4</th>\n",
       "      <td>US126650CZ11</td>\n",
       "      <td>CVS 5.05 03/25/48</td>\n",
       "      <td>8000000</td>\n",
       "      <td>98.793</td>\n",
       "      <td>7989852</td>\n",
       "      <td>0.157497</td>\n",
       "      <td>3/9/2018</td>\n",
       "      <td>3/25/2048</td>\n",
       "      <td>Health Care</td>\n",
       "      <td>8000000000</td>\n",
       "      <td>...</td>\n",
       "      <td>11.29566855</td>\n",
       "      <td>0.000289</td>\n",
       "      <td>107.0</td>\n",
       "      <td>0</td>\n",
       "      <td>1</td>\n",
       "      <td>15.350137</td>\n",
       "      <td>3.334760</td>\n",
       "      <td>197.3188</td>\n",
       "      <td>211.425291</td>\n",
       "      <td>212.0799208</td>\n",
       "    </tr>\n",
       "  </tbody>\n",
       "</table>\n",
       "<p>5 rows × 26 columns</p>\n",
       "</div>"
      ],
      "text/plain": [
       "           ISIN          DESCRIPTION  Par Value   PRICE  MARKET_VALUE  \\\n",
       "0  US36164QNA21    GE 4.418 11/15/35   11406510  82.323       9427977   \n",
       "1  US03522AAF75   ABIBB 4.9 02/01/46    9542514  95.079       9243075   \n",
       "2  US126650CX62     CVS 4.3 03/25/28    9000000  97.864       8890534   \n",
       "3  US03522AAD28  ABIBB 3.65 02/01/26    8555163  94.695       8214941   \n",
       "4  US126650CZ11    CVS 5.05 03/25/48    8000000  98.793       7989852   \n",
       "\n",
       "     WEIGHT    ISSUE_DT    MATURITY BICS_LEVEL_1_SECTOR_NAME   AMT_ISSUED  \\\n",
       "0  0.185846    7/1/2016  11/15/2035               Financials  11406510000   \n",
       "1  0.182201  11/13/2018    2/1/2046         Consumer Staples   9542514000   \n",
       "2  0.175251    3/9/2018   3/25/2028              Health Care   9000000000   \n",
       "3  0.161934  11/13/2018    2/1/2026         Consumer Staples   8555163000   \n",
       "4  0.157497    3/9/2018   3/25/2048              Health Care   8000000000   \n",
       "\n",
       "      ...       EBITDA_TO_INTEREST_EXPN BB_1YR_DEFAULT_PROB  \\\n",
       "0     ...                  -1.326189611            0.010987   \n",
       "1     ...                   4.967083913            0.000152   \n",
       "2     ...                   11.29566855            0.000289   \n",
       "3     ...                   4.967083913            0.000152   \n",
       "4     ...                   11.29566855            0.000289   \n",
       "\n",
       "  RSK_BB_IMPLIED_CDS_SPREAD GUARANTOR INVESTMENT_GRADE    DUR_MID  CNVX_MID  \\\n",
       "0                     185.0         1                1  11.480111  1.633037   \n",
       "1                      90.0         1                1  14.725055  3.033038   \n",
       "2                     107.0         0                1   7.659566  0.671107   \n",
       "3                      90.0         1                1   6.230380  0.436189   \n",
       "4                     107.0         0                1  15.350137  3.334760   \n",
       "\n",
       "   YAS_YLD_SPREAD  YAS_OAS_SPRD   Z_SPRD_MID  \n",
       "0        294.5602    311.078146  309.6319234  \n",
       "1        207.1131    220.910202  221.4321032  \n",
       "2        166.7436    162.978589  164.5156153  \n",
       "3        164.9950    157.382648  158.6176031  \n",
       "4        197.3188    211.425291  212.0799208  \n",
       "\n",
       "[5 rows x 26 columns]"
      ]
     },
     "execution_count": 133,
     "metadata": {},
     "output_type": "execute_result"
    }
   ],
   "source": [
    "df = pd.read_csv(\"LUACTRUU_bonddata.csv\")\n",
    "df.head()"
   ]
  },
  {
   "cell_type": "code",
   "execution_count": 153,
   "metadata": {
    "scrolled": true
   },
   "outputs": [
    {
     "data": {
      "text/plain": [
       "(3618, 27)"
      ]
     },
     "execution_count": 153,
     "metadata": {},
     "output_type": "execute_result"
    }
   ],
   "source": [
    "df.shape"
   ]
  },
  {
   "cell_type": "markdown",
   "metadata": {},
   "source": [
    "#### Check for Missing Values and perform necessary Data Cleansing"
   ]
  },
  {
   "cell_type": "code",
   "execution_count": 134,
   "metadata": {},
   "outputs": [
    {
     "name": "stdout",
     "output_type": "stream",
     "text": [
      "<class 'pandas.core.frame.DataFrame'>\n",
      "RangeIndex: 5862 entries, 0 to 5861\n",
      "Data columns (total 26 columns):\n",
      "ISIN                         5862 non-null object\n",
      "DESCRIPTION                  5862 non-null object\n",
      "Par Value                    5862 non-null int64\n",
      "PRICE                        5862 non-null float64\n",
      "MARKET_VALUE                 5862 non-null int64\n",
      "WEIGHT                       5862 non-null float64\n",
      "ISSUE_DT                     5862 non-null object\n",
      "MATURITY                     5862 non-null object\n",
      "BICS_LEVEL_1_SECTOR_NAME     5862 non-null object\n",
      "AMT_ISSUED                   5862 non-null int64\n",
      "AMT_OUTSTANDING              5862 non-null float64\n",
      "CRNCY                        5862 non-null object\n",
      "CNTRY_OF_RISK                5862 non-null object\n",
      "DEBT_EBITDA                  4720 non-null object\n",
      "CUR_EV_COMPONENT             5079 non-null object\n",
      "EV_TO_T12M_EBITDA            3824 non-null object\n",
      "EBITDA_TO_INTEREST_EXPN      4666 non-null object\n",
      "BB_1YR_DEFAULT_PROB          5698 non-null float64\n",
      "RSK_BB_IMPLIED_CDS_SPREAD    5696 non-null float64\n",
      "GUARANTOR                    5862 non-null int64\n",
      "INVESTMENT_GRADE             5862 non-null int64\n",
      "DUR_MID                      5862 non-null float64\n",
      "CNVX_MID                     5862 non-null float64\n",
      "YAS_YLD_SPREAD               5861 non-null float64\n",
      "YAS_OAS_SPRD                 5860 non-null float64\n",
      "Z_SPRD_MID                   5862 non-null object\n",
      "dtypes: float64(9), int64(5), object(12)\n",
      "memory usage: 1.2+ MB\n"
     ]
    }
   ],
   "source": [
    "# Explore the datafields that are available and respective data types.\n",
    "\n",
    "df.info()"
   ]
  },
  {
   "cell_type": "code",
   "execution_count": 135,
   "metadata": {},
   "outputs": [],
   "source": [
    "# Drop all rows with missing values \n",
    "\n",
    "df.dropna(axis=0, inplace = True)"
   ]
  },
  {
   "cell_type": "code",
   "execution_count": 136,
   "metadata": {
    "scrolled": false
   },
   "outputs": [],
   "source": [
    "# Some columns are currently in String format instead of Floats. Convert the respective columns\n",
    "\n",
    "for column in df[['DEBT_EBITDA', 'CUR_EV_COMPONENT','EV_TO_T12M_EBITDA', 'EBITDA_TO_INTEREST_EXPN','Z_SPRD_MID']]:\n",
    "    # Use map(lambda()) to convert into floats\n",
    "    df[column] = list(map(lambda x:float(x), df[column]))"
   ]
  },
  {
   "cell_type": "code",
   "execution_count": 137,
   "metadata": {},
   "outputs": [
    {
     "name": "stdout",
     "output_type": "stream",
     "text": [
      "11/13/2018\n"
     ]
    }
   ],
   "source": [
    "# Convert the date columns to datetime object. \n",
    "\n",
    "# First check how the ISSUE_DT and MATURITY column dates are displayed\n",
    "print(df['ISSUE_DT'][1])"
   ]
  },
  {
   "cell_type": "code",
   "execution_count": 138,
   "metadata": {},
   "outputs": [],
   "source": [
    "# Since it is in MM/DD/YYYY format, create a new variable to define the date structure\n",
    "format_str = '%m/%d/%Y'\n",
    "\n",
    "# Use datetime.datetime.striptime() method to convert into datetime objects\n",
    "df['ISSUE_DT'] = list(map(lambda x:datetime.strptime(x, format_str), df['ISSUE_DT']))\n",
    "df['MATURITY'] = list(map(lambda x:datetime.strptime(x, format_str), df['MATURITY']))"
   ]
  },
  {
   "cell_type": "code",
   "execution_count": 140,
   "metadata": {},
   "outputs": [],
   "source": [
    "# To perform Duration-adjusted analysis, create a new column called \"YEARS_TO_MATURITY\" and find the number of years remaining from Issue Date to Maturity Date\n",
    "\n",
    "from dateutil.relativedelta import relativedelta\n",
    "\n",
    "df['YEARS_TO_MATURITY'] = list(map(lambda x, y: relativedelta(x,y).years,df['MATURITY'],df['ISSUE_DT']))"
   ]
  },
  {
   "cell_type": "code",
   "execution_count": 141,
   "metadata": {},
   "outputs": [
    {
     "name": "stdout",
     "output_type": "stream",
     "text": [
      "<class 'pandas.core.frame.DataFrame'>\n",
      "Int64Index: 3692 entries, 1 to 5861\n",
      "Data columns (total 27 columns):\n",
      "ISIN                         3692 non-null object\n",
      "DESCRIPTION                  3692 non-null object\n",
      "Par Value                    3692 non-null int64\n",
      "PRICE                        3692 non-null float64\n",
      "MARKET_VALUE                 3692 non-null int64\n",
      "WEIGHT                       3692 non-null float64\n",
      "ISSUE_DT                     3692 non-null datetime64[ns]\n",
      "MATURITY                     3692 non-null datetime64[ns]\n",
      "BICS_LEVEL_1_SECTOR_NAME     3692 non-null object\n",
      "AMT_ISSUED                   3692 non-null int64\n",
      "AMT_OUTSTANDING              3692 non-null float64\n",
      "CRNCY                        3692 non-null object\n",
      "CNTRY_OF_RISK                3692 non-null object\n",
      "DEBT_EBITDA                  3692 non-null float64\n",
      "CUR_EV_COMPONENT             3692 non-null float64\n",
      "EV_TO_T12M_EBITDA            3692 non-null float64\n",
      "EBITDA_TO_INTEREST_EXPN      3692 non-null float64\n",
      "BB_1YR_DEFAULT_PROB          3692 non-null float64\n",
      "RSK_BB_IMPLIED_CDS_SPREAD    3692 non-null float64\n",
      "GUARANTOR                    3692 non-null int64\n",
      "INVESTMENT_GRADE             3692 non-null int64\n",
      "DUR_MID                      3692 non-null float64\n",
      "CNVX_MID                     3692 non-null float64\n",
      "YAS_YLD_SPREAD               3692 non-null float64\n",
      "YAS_OAS_SPRD                 3692 non-null float64\n",
      "Z_SPRD_MID                   3692 non-null float64\n",
      "YEARS_TO_MATURITY            3692 non-null int64\n",
      "dtypes: datetime64[ns](2), float64(14), int64(6), object(5)\n",
      "memory usage: 967.6+ KB\n"
     ]
    }
   ],
   "source": [
    "# We can now check if the data types are all correct. \n",
    "df.info()"
   ]
  },
  {
   "cell_type": "code",
   "execution_count": 142,
   "metadata": {},
   "outputs": [],
   "source": [
    "# For our Target and Feature Columns, rename for easy referencing\n",
    "\n",
    "df.rename(columns={'Z_SPRD_MID':'SPREAD', 'BB_1YR_DEFAULT_PROB':'PROBABILITY'}, inplace=True)"
   ]
  },
  {
   "cell_type": "code",
   "execution_count": 143,
   "metadata": {},
   "outputs": [],
   "source": [
    "# Get rid of outliers with 1%, and 99% Percentile Cut Off"
   ]
  },
  {
   "cell_type": "code",
   "execution_count": 144,
   "metadata": {},
   "outputs": [],
   "source": [
    "df = df[df.SPREAD < df.SPREAD.quantile(.99)]"
   ]
  },
  {
   "cell_type": "code",
   "execution_count": 145,
   "metadata": {},
   "outputs": [],
   "source": [
    "df = df[df.SPREAD > df.SPREAD.quantile(.01)]"
   ]
  },
  {
   "cell_type": "markdown",
   "metadata": {},
   "source": [
    "#### Statistical and Exploratory Analysis of the DataSet"
   ]
  },
  {
   "cell_type": "code",
   "execution_count": 146,
   "metadata": {},
   "outputs": [
    {
     "data": {
      "text/html": [
       "<div>\n",
       "<style scoped>\n",
       "    .dataframe tbody tr th:only-of-type {\n",
       "        vertical-align: middle;\n",
       "    }\n",
       "\n",
       "    .dataframe tbody tr th {\n",
       "        vertical-align: top;\n",
       "    }\n",
       "\n",
       "    .dataframe thead th {\n",
       "        text-align: right;\n",
       "    }\n",
       "</style>\n",
       "<table border=\"1\" class=\"dataframe\">\n",
       "  <thead>\n",
       "    <tr style=\"text-align: right;\">\n",
       "      <th></th>\n",
       "      <th>Par Value</th>\n",
       "      <th>PRICE</th>\n",
       "      <th>MARKET_VALUE</th>\n",
       "      <th>WEIGHT</th>\n",
       "      <th>AMT_ISSUED</th>\n",
       "      <th>AMT_OUTSTANDING</th>\n",
       "      <th>DEBT_EBITDA</th>\n",
       "      <th>CUR_EV_COMPONENT</th>\n",
       "      <th>EV_TO_T12M_EBITDA</th>\n",
       "      <th>EBITDA_TO_INTEREST_EXPN</th>\n",
       "      <th>PROBABILITY</th>\n",
       "      <th>RSK_BB_IMPLIED_CDS_SPREAD</th>\n",
       "      <th>GUARANTOR</th>\n",
       "      <th>INVESTMENT_GRADE</th>\n",
       "      <th>DUR_MID</th>\n",
       "      <th>CNVX_MID</th>\n",
       "      <th>YAS_YLD_SPREAD</th>\n",
       "      <th>YAS_OAS_SPRD</th>\n",
       "      <th>SPREAD</th>\n",
       "      <th>YEARS_TO_MATURITY</th>\n",
       "    </tr>\n",
       "  </thead>\n",
       "  <tbody>\n",
       "    <tr>\n",
       "      <th>count</th>\n",
       "      <td>3.618000e+03</td>\n",
       "      <td>3618.000000</td>\n",
       "      <td>3.618000e+03</td>\n",
       "      <td>3618.000000</td>\n",
       "      <td>3.618000e+03</td>\n",
       "      <td>3.618000e+03</td>\n",
       "      <td>3618.000000</td>\n",
       "      <td>3.618000e+03</td>\n",
       "      <td>3618.000000</td>\n",
       "      <td>3618.000000</td>\n",
       "      <td>3.618000e+03</td>\n",
       "      <td>3618.000000</td>\n",
       "      <td>3618.000000</td>\n",
       "      <td>3618.000000</td>\n",
       "      <td>3618.000000</td>\n",
       "      <td>3618.000000</td>\n",
       "      <td>3618.000000</td>\n",
       "      <td>3618.000000</td>\n",
       "      <td>3618.000000</td>\n",
       "      <td>3618.000000</td>\n",
       "    </tr>\n",
       "    <tr>\n",
       "      <th>mean</th>\n",
       "      <td>8.918649e+05</td>\n",
       "      <td>99.065575</td>\n",
       "      <td>8.880030e+05</td>\n",
       "      <td>0.017504</td>\n",
       "      <td>9.415276e+08</td>\n",
       "      <td>8.910659e+08</td>\n",
       "      <td>2.408278</td>\n",
       "      <td>1.577189e+04</td>\n",
       "      <td>18.929594</td>\n",
       "      <td>12.315884</td>\n",
       "      <td>4.474422e-04</td>\n",
       "      <td>87.263958</td>\n",
       "      <td>0.250415</td>\n",
       "      <td>0.959646</td>\n",
       "      <td>7.434657</td>\n",
       "      <td>1.022335</td>\n",
       "      <td>137.839911</td>\n",
       "      <td>135.177261</td>\n",
       "      <td>136.981392</td>\n",
       "      <td>15.138198</td>\n",
       "    </tr>\n",
       "    <tr>\n",
       "      <th>std</th>\n",
       "      <td>7.565683e+05</td>\n",
       "      <td>7.892769</td>\n",
       "      <td>7.510122e+05</td>\n",
       "      <td>0.014804</td>\n",
       "      <td>8.657207e+08</td>\n",
       "      <td>7.565430e+08</td>\n",
       "      <td>2.231270</td>\n",
       "      <td>3.332407e+05</td>\n",
       "      <td>117.701108</td>\n",
       "      <td>22.216057</td>\n",
       "      <td>2.604384e-03</td>\n",
       "      <td>48.193799</td>\n",
       "      <td>0.433312</td>\n",
       "      <td>0.196815</td>\n",
       "      <td>4.820519</td>\n",
       "      <td>1.223065</td>\n",
       "      <td>61.326162</td>\n",
       "      <td>68.508928</td>\n",
       "      <td>67.341122</td>\n",
       "      <td>10.396732</td>\n",
       "    </tr>\n",
       "    <tr>\n",
       "      <th>min</th>\n",
       "      <td>3.000000e+05</td>\n",
       "      <td>74.217000</td>\n",
       "      <td>2.477090e+05</td>\n",
       "      <td>0.004883</td>\n",
       "      <td>3.000000e+08</td>\n",
       "      <td>3.800000e+04</td>\n",
       "      <td>-13.072816</td>\n",
       "      <td>-1.965568e+07</td>\n",
       "      <td>2.276304</td>\n",
       "      <td>-7.984615</td>\n",
       "      <td>4.761420e-11</td>\n",
       "      <td>16.000000</td>\n",
       "      <td>0.000000</td>\n",
       "      <td>0.000000</td>\n",
       "      <td>0.908044</td>\n",
       "      <td>0.012435</td>\n",
       "      <td>20.572400</td>\n",
       "      <td>-11.301967</td>\n",
       "      <td>9.578724</td>\n",
       "      <td>1.000000</td>\n",
       "    </tr>\n",
       "    <tr>\n",
       "      <th>25%</th>\n",
       "      <td>4.860520e+05</td>\n",
       "      <td>95.192000</td>\n",
       "      <td>4.634302e+05</td>\n",
       "      <td>0.009135</td>\n",
       "      <td>5.000000e+08</td>\n",
       "      <td>4.830785e+08</td>\n",
       "      <td>1.173805</td>\n",
       "      <td>3.704000e+03</td>\n",
       "      <td>8.954889</td>\n",
       "      <td>5.159332</td>\n",
       "      <td>2.853510e-06</td>\n",
       "      <td>54.000000</td>\n",
       "      <td>0.000000</td>\n",
       "      <td>1.000000</td>\n",
       "      <td>3.518195</td>\n",
       "      <td>0.140961</td>\n",
       "      <td>91.808175</td>\n",
       "      <td>83.581755</td>\n",
       "      <td>85.604777</td>\n",
       "      <td>9.000000</td>\n",
       "    </tr>\n",
       "    <tr>\n",
       "      <th>50%</th>\n",
       "      <td>6.414090e+05</td>\n",
       "      <td>98.011500</td>\n",
       "      <td>6.441570e+05</td>\n",
       "      <td>0.012698</td>\n",
       "      <td>7.000000e+08</td>\n",
       "      <td>6.381350e+08</td>\n",
       "      <td>2.153778</td>\n",
       "      <td>1.040600e+04</td>\n",
       "      <td>12.614176</td>\n",
       "      <td>9.141160</td>\n",
       "      <td>2.085920e-05</td>\n",
       "      <td>76.000000</td>\n",
       "      <td>0.000000</td>\n",
       "      <td>1.000000</td>\n",
       "      <td>6.068904</td>\n",
       "      <td>0.415931</td>\n",
       "      <td>128.190800</td>\n",
       "      <td>128.048888</td>\n",
       "      <td>129.094719</td>\n",
       "      <td>10.000000</td>\n",
       "    </tr>\n",
       "    <tr>\n",
       "      <th>75%</th>\n",
       "      <td>1.000000e+06</td>\n",
       "      <td>100.574250</td>\n",
       "      <td>1.004524e+06</td>\n",
       "      <td>0.019801</td>\n",
       "      <td>1.000000e+09</td>\n",
       "      <td>1.000000e+09</td>\n",
       "      <td>3.371942</td>\n",
       "      <td>2.238660e+04</td>\n",
       "      <td>16.262971</td>\n",
       "      <td>14.139082</td>\n",
       "      <td>1.657100e-04</td>\n",
       "      <td>109.000000</td>\n",
       "      <td>1.000000</td>\n",
       "      <td>1.000000</td>\n",
       "      <td>11.774955</td>\n",
       "      <td>1.793623</td>\n",
       "      <td>173.875775</td>\n",
       "      <td>176.704878</td>\n",
       "      <td>177.834767</td>\n",
       "      <td>29.000000</td>\n",
       "    </tr>\n",
       "    <tr>\n",
       "      <th>max</th>\n",
       "      <td>9.542514e+06</td>\n",
       "      <td>147.045000</td>\n",
       "      <td>9.243075e+06</td>\n",
       "      <td>0.182201</td>\n",
       "      <td>1.500000e+10</td>\n",
       "      <td>9.542514e+09</td>\n",
       "      <td>15.745969</td>\n",
       "      <td>2.095118e+06</td>\n",
       "      <td>2686.679947</td>\n",
       "      <td>754.382482</td>\n",
       "      <td>4.043850e-02</td>\n",
       "      <td>316.000000</td>\n",
       "      <td>1.000000</td>\n",
       "      <td>1.000000</td>\n",
       "      <td>19.512785</td>\n",
       "      <td>6.578180</td>\n",
       "      <td>359.712000</td>\n",
       "      <td>349.073938</td>\n",
       "      <td>349.318765</td>\n",
       "      <td>99.000000</td>\n",
       "    </tr>\n",
       "  </tbody>\n",
       "</table>\n",
       "</div>"
      ],
      "text/plain": [
       "          Par Value        PRICE  MARKET_VALUE       WEIGHT    AMT_ISSUED  \\\n",
       "count  3.618000e+03  3618.000000  3.618000e+03  3618.000000  3.618000e+03   \n",
       "mean   8.918649e+05    99.065575  8.880030e+05     0.017504  9.415276e+08   \n",
       "std    7.565683e+05     7.892769  7.510122e+05     0.014804  8.657207e+08   \n",
       "min    3.000000e+05    74.217000  2.477090e+05     0.004883  3.000000e+08   \n",
       "25%    4.860520e+05    95.192000  4.634302e+05     0.009135  5.000000e+08   \n",
       "50%    6.414090e+05    98.011500  6.441570e+05     0.012698  7.000000e+08   \n",
       "75%    1.000000e+06   100.574250  1.004524e+06     0.019801  1.000000e+09   \n",
       "max    9.542514e+06   147.045000  9.243075e+06     0.182201  1.500000e+10   \n",
       "\n",
       "       AMT_OUTSTANDING  DEBT_EBITDA  CUR_EV_COMPONENT  EV_TO_T12M_EBITDA  \\\n",
       "count     3.618000e+03  3618.000000      3.618000e+03        3618.000000   \n",
       "mean      8.910659e+08     2.408278      1.577189e+04          18.929594   \n",
       "std       7.565430e+08     2.231270      3.332407e+05         117.701108   \n",
       "min       3.800000e+04   -13.072816     -1.965568e+07           2.276304   \n",
       "25%       4.830785e+08     1.173805      3.704000e+03           8.954889   \n",
       "50%       6.381350e+08     2.153778      1.040600e+04          12.614176   \n",
       "75%       1.000000e+09     3.371942      2.238660e+04          16.262971   \n",
       "max       9.542514e+09    15.745969      2.095118e+06        2686.679947   \n",
       "\n",
       "       EBITDA_TO_INTEREST_EXPN   PROBABILITY  RSK_BB_IMPLIED_CDS_SPREAD  \\\n",
       "count              3618.000000  3.618000e+03                3618.000000   \n",
       "mean                 12.315884  4.474422e-04                  87.263958   \n",
       "std                  22.216057  2.604384e-03                  48.193799   \n",
       "min                  -7.984615  4.761420e-11                  16.000000   \n",
       "25%                   5.159332  2.853510e-06                  54.000000   \n",
       "50%                   9.141160  2.085920e-05                  76.000000   \n",
       "75%                  14.139082  1.657100e-04                 109.000000   \n",
       "max                 754.382482  4.043850e-02                 316.000000   \n",
       "\n",
       "         GUARANTOR  INVESTMENT_GRADE      DUR_MID     CNVX_MID  \\\n",
       "count  3618.000000       3618.000000  3618.000000  3618.000000   \n",
       "mean      0.250415          0.959646     7.434657     1.022335   \n",
       "std       0.433312          0.196815     4.820519     1.223065   \n",
       "min       0.000000          0.000000     0.908044     0.012435   \n",
       "25%       0.000000          1.000000     3.518195     0.140961   \n",
       "50%       0.000000          1.000000     6.068904     0.415931   \n",
       "75%       1.000000          1.000000    11.774955     1.793623   \n",
       "max       1.000000          1.000000    19.512785     6.578180   \n",
       "\n",
       "       YAS_YLD_SPREAD  YAS_OAS_SPRD       SPREAD  YEARS_TO_MATURITY  \n",
       "count     3618.000000   3618.000000  3618.000000        3618.000000  \n",
       "mean       137.839911    135.177261   136.981392          15.138198  \n",
       "std         61.326162     68.508928    67.341122          10.396732  \n",
       "min         20.572400    -11.301967     9.578724           1.000000  \n",
       "25%         91.808175     83.581755    85.604777           9.000000  \n",
       "50%        128.190800    128.048888   129.094719          10.000000  \n",
       "75%        173.875775    176.704878   177.834767          29.000000  \n",
       "max        359.712000    349.073938   349.318765          99.000000  "
      ]
     },
     "execution_count": 146,
     "metadata": {},
     "output_type": "execute_result"
    }
   ],
   "source": [
    "# Look at the main summary statistics to see if there are any interesting insights\n",
    "\n",
    "df.describe()"
   ]
  },
  {
   "cell_type": "markdown",
   "metadata": {},
   "source": [
    "#### Perform Grouping  Analysis "
   ]
  },
  {
   "cell_type": "code",
   "execution_count": 15,
   "metadata": {},
   "outputs": [
    {
     "data": {
      "text/plain": [
       "Index(['ISIN', 'DESCRIPTION', 'Par Value', 'PRICE', 'MARKET_VALUE', 'WEIGHT',\n",
       "       'ISSUE_DT', 'MATURITY', 'BICS_LEVEL_1_SECTOR_NAME', 'AMT_ISSUED',\n",
       "       'AMT_OUTSTANDING', 'CRNCY', 'CNTRY_OF_RISK', 'DEBT_EBITDA',\n",
       "       'CUR_EV_COMPONENT', 'EV_TO_T12M_EBITDA', 'EBITDA_TO_INTEREST_EXPN',\n",
       "       'PROBABILITY', 'RSK_BB_IMPLIED_CDS_SPREAD', 'GUARANTOR',\n",
       "       'INVESTMENT_GRADE', 'DUR_MID', 'CNVX_MID', 'YAS_YLD_SPREAD',\n",
       "       'YAS_OAS_SPRD', 'SPREAD', 'YEARS_TO_MATURITY'],\n",
       "      dtype='object')"
      ]
     },
     "execution_count": 15,
     "metadata": {},
     "output_type": "execute_result"
    }
   ],
   "source": [
    "df.columns"
   ]
  },
  {
   "cell_type": "code",
   "execution_count": 16,
   "metadata": {
    "scrolled": true
   },
   "outputs": [
    {
     "data": {
      "text/plain": [
       "Text(0.5, 1.0, 'Number of Bonds per Sector')"
      ]
     },
     "execution_count": 16,
     "metadata": {},
     "output_type": "execute_result"
    },
    {
     "data": {
      "image/png": "[encoded data removed]",
      "text/plain": [
       "<Figure size 432x288 with 1 Axes>"
      ]
     },
     "metadata": {
      "needs_background": "light"
     },
     "output_type": "display_data"
    }
   ],
   "source": [
    "# Count the number of securities per each sector\n",
    "\n",
    "df['BICS_LEVEL_1_SECTOR_NAME'].value_counts().plot(kind='bar')\n",
    "plt.xlabel('BICS Sector')\n",
    "plt.ylabel('Number of Bonds')\n",
    "plt.title('Number of Bonds per Sector')\n"
   ]
  },
  {
   "cell_type": "code",
   "execution_count": 161,
   "metadata": {
    "scrolled": false
   },
   "outputs": [
    {
     "data": {
      "text/plain": [
       "Text(0.5, 1.0, 'Average Credit Spread by Sector')"
      ]
     },
     "execution_count": 161,
     "metadata": {},
     "output_type": "execute_result"
    },
    {
     "data": {
      "image/png": "[encoded data removed]",
      "text/plain": [
       "<Figure size 432x288 with 1 Axes>"
      ]
     },
     "metadata": {},
     "output_type": "display_data"
    }
   ],
   "source": [
    "df.groupby('BICS_LEVEL_1_SECTOR_NAME')['SPREAD'].mean().plot(kind='bar')\n",
    "plt.xlabel('BICS Sector')\n",
    "plt.ylabel('Average Z Spread')\n",
    "plt.title('Average Credit Spread by Sector')"
   ]
  },
  {
   "cell_type": "code",
   "execution_count": 162,
   "metadata": {
    "scrolled": true
   },
   "outputs": [
    {
     "data": {
      "text/plain": [
       "Text(0.5, 1.0, 'Portion of Total Market Size by Sector')"
      ]
     },
     "execution_count": 162,
     "metadata": {},
     "output_type": "execute_result"
    },
    {
     "data": {
      "image/png": "[encoded data removed]",
      "text/plain": [
       "<Figure size 432x288 with 1 Axes>"
      ]
     },
     "metadata": {},
     "output_type": "display_data"
    }
   ],
   "source": [
    "df.groupby('BICS_LEVEL_1_SECTOR_NAME')['AMT_ISSUED'].sum().plot(kind='pie')\n",
    "plt.title('Portion of Total Market Size by Sector')"
   ]
  },
  {
   "cell_type": "markdown",
   "metadata": {},
   "source": [
    "#### Graphical Representation of how the Credit Spread is distributed against the Years till Maturity"
   ]
  },
  {
   "cell_type": "code",
   "execution_count": 151,
   "metadata": {},
   "outputs": [
    {
     "name": "stderr",
     "output_type": "stream",
     "text": [
      "'c' argument looks like a single numeric RGB or RGBA sequence, which should be avoided as value-mapping will have precedence in case its length matches with 'x' & 'y'.  Please use a 2-D array with a single row if you really want to specify the same RGB or RGBA value for all points.\n"
     ]
    },
    {
     "data": {
      "image/png": "[encoded data removed]",
      "text/plain": [
       "<Figure size 720x432 with 1 Axes>"
      ]
     },
     "metadata": {},
     "output_type": "display_data"
    }
   ],
   "source": [
    "df.plot(kind='scatter', x='YEARS_TO_MATURITY', y='SPREAD', figsize=(10, 6));"
   ]
  },
  {
   "cell_type": "markdown",
   "metadata": {},
   "source": [
    "#### Check Correlation Levels in order to understand the factors that might be important in determining the target column"
   ]
  },
  {
   "cell_type": "code",
   "execution_count": 152,
   "metadata": {
    "scrolled": true
   },
   "outputs": [
    {
     "data": {
      "text/plain": [
       "<matplotlib.axes._subplots.AxesSubplot at 0x1e8d1826a90>"
      ]
     },
     "execution_count": 152,
     "metadata": {},
     "output_type": "execute_result"
    },
    {
     "data": {
      "image/png": "[encoded data removed]",
      "text/plain": [
       "<Figure size 432x288 with 2 Axes>"
      ]
     },
     "metadata": {},
     "output_type": "display_data"
    }
   ],
   "source": [
    "sns.set_palette(\"coolwarm\", 7)\n",
    "sns.heatmap(df.corr(), vmin=0, vmax=1) "
   ]
  },
  {
   "cell_type": "markdown",
   "metadata": {},
   "source": [
    "## Part 3: *Technical Notebook*\n",
    "\n",
    "Develop a prototype model or process to successfully resolve the business problem you've chosen. Document your work in a technical notebook that can be shared with your peers.\n"
   ]
  },
  {
   "cell_type": "code",
   "execution_count": 22,
   "metadata": {},
   "outputs": [],
   "source": [
    "# Create a new target column with the SPREAD data\n",
    "df['target'] = df['SPREAD'].mean()"
   ]
  },
  {
   "cell_type": "code",
   "execution_count": 33,
   "metadata": {},
   "outputs": [],
   "source": [
    "from sklearn import metrics\n",
    "\n",
    "def split_level(data):\n",
    "    lower_point = df[df.DUR_MID < data]['SPREAD'].mean()\n",
    "    higher_point = df[df.DUR_MID > data]['SPREAD'].mean()\n",
    "    \n",
    "    df['prediction'] = np.where(df.DUR_MID < data, lower_point, higher_point)\n",
    "    return np.sqrt(metrics.mean_squared_error(df.SPREAD, df.target))"
   ]
  },
  {
   "cell_type": "code",
   "execution_count": 34,
   "metadata": {},
   "outputs": [
    {
     "data": {
      "text/plain": [
       "count    3618.000000\n",
       "mean        7.434657\n",
       "std         4.820519\n",
       "min         0.908044\n",
       "25%         3.518195\n",
       "50%         6.068904\n",
       "75%        11.774955\n",
       "max        19.512785\n",
       "Name: DUR_MID, dtype: float64"
      ]
     },
     "execution_count": 34,
     "metadata": {},
     "output_type": "execute_result"
    }
   ],
   "source": [
    "df['DUR_MID'].describe()"
   ]
  },
  {
   "cell_type": "code",
   "execution_count": 37,
   "metadata": {},
   "outputs": [],
   "source": [
    "# Check all possible BB_1YR_DEFAULT_PROB splits.\n",
    "prob_range = list(np.arange(df.DUR_MID.min(), df.DUR_MID.max(), 0.1))"
   ]
  },
  {
   "cell_type": "code",
   "execution_count": 38,
   "metadata": {},
   "outputs": [],
   "source": [
    "RMSE = [split_level(prob) for prob in prob_range]"
   ]
  },
  {
   "cell_type": "code",
   "execution_count": 40,
   "metadata": {},
   "outputs": [
    {
     "data": {
      "image/png": "[encoded data removed]",
      "text/plain": [
       "<Figure size 432x288 with 1 Axes>"
      ]
     },
     "metadata": {
      "needs_background": "light"
     },
     "output_type": "display_data"
    }
   ],
   "source": [
    "# Plot mileage cutpoint (x-axis) versus RMSE (y-axis).\n",
    "plt.plot(prob_range, RMSE);\n",
    "plt.xlabel('cutpoint');\n",
    "plt.ylabel('RMSE');"
   ]
  },
  {
   "cell_type": "markdown",
   "metadata": {},
   "source": [
    "#### Building Regression Tree with the selected Features"
   ]
  },
  {
   "cell_type": "code",
   "execution_count": 108,
   "metadata": {},
   "outputs": [],
   "source": [
    "# Define X and y.\n",
    "feature_cols = ['DEBT_EBITDA','PROBABILITY','RSK_BB_IMPLIED_CDS_SPREAD','DUR_MID','GUARANTOR','AMT_OUTSTANDING','EV_TO_T12M_EBITDA']\n",
    "X = df[feature_cols]\n",
    "y = df.SPREAD"
   ]
  },
  {
   "cell_type": "code",
   "execution_count": 83,
   "metadata": {},
   "outputs": [
    {
     "data": {
      "text/plain": [
       "DecisionTreeRegressor(criterion='mse', max_depth=None, max_features=None,\n",
       "           max_leaf_nodes=None, min_impurity_decrease=0.0,\n",
       "           min_impurity_split=None, min_samples_leaf=1,\n",
       "           min_samples_split=2, min_weight_fraction_leaf=0.0,\n",
       "           presort=False, random_state=1, splitter='best')"
      ]
     },
     "execution_count": 83,
     "metadata": {},
     "output_type": "execute_result"
    }
   ],
   "source": [
    "from sklearn.tree import DecisionTreeRegressor\n",
    "\n",
    "treereg = DecisionTreeRegressor(random_state=1)\n",
    "treereg"
   ]
  },
  {
   "cell_type": "code",
   "execution_count": 84,
   "metadata": {},
   "outputs": [
    {
     "data": {
      "text/plain": [
       "35.3527579446072"
      ]
     },
     "execution_count": 84,
     "metadata": {},
     "output_type": "execute_result"
    }
   ],
   "source": [
    "from sklearn.model_selection import cross_val_score\n",
    "scores = cross_val_score(treereg, X, y, cv=14, scoring='neg_mean_squared_error')\n",
    "np.mean(np.sqrt(-scores))"
   ]
  },
  {
   "cell_type": "code",
   "execution_count": 85,
   "metadata": {},
   "outputs": [],
   "source": [
    "# List of values to try:\n",
    "max_depth_range = list(range(1, 15))\n",
    "\n",
    "# List to store the average RMSE for each value of max_depth:\n",
    "RMSE_scores = []\n",
    "\n",
    "# Use LOOCV within the max_depth_range.\n",
    "for depth in max_depth_range:\n",
    "    treereg = DecisionTreeRegressor(max_depth=depth, random_state=1)\n",
    "    MSE_scores = cross_val_score(treereg, X, y, cv=14, scoring='neg_mean_squared_error')\n",
    "    RMSE_scores.append(np.mean(np.sqrt(-MSE_scores)))"
   ]
  },
  {
   "cell_type": "code",
   "execution_count": 86,
   "metadata": {},
   "outputs": [
    {
     "data": {
      "image/png": "[encoded data removed]",
      "text/plain": [
       "<Figure size 432x288 with 1 Axes>"
      ]
     },
     "metadata": {
      "needs_background": "light"
     },
     "output_type": "display_data"
    }
   ],
   "source": [
    "# Plot max_depth (x-axis) versus RMSE (y-axis).\n",
    "plt.plot(max_depth_range, RMSE_scores);\n",
    "plt.xlabel('max_depth');\n",
    "plt.ylabel('RMSE');"
   ]
  },
  {
   "cell_type": "code",
   "execution_count": 87,
   "metadata": {},
   "outputs": [
    {
     "data": {
      "text/plain": [
       "DecisionTreeRegressor(criterion='mse', max_depth=8, max_features=None,\n",
       "           max_leaf_nodes=None, min_impurity_decrease=0.0,\n",
       "           min_impurity_split=None, min_samples_leaf=1,\n",
       "           min_samples_split=2, min_weight_fraction_leaf=0.0,\n",
       "           presort=False, random_state=1, splitter='best')"
      ]
     },
     "execution_count": 87,
     "metadata": {},
     "output_type": "execute_result"
    }
   ],
   "source": [
    "# Fit DecisionTree\n",
    "\n",
    "treereg = DecisionTreeRegressor(max_depth=8, random_state=1)\n",
    "treereg.fit(X, y)"
   ]
  },
  {
   "cell_type": "code",
   "execution_count": 97,
   "metadata": {},
   "outputs": [
    {
     "data": {
      "text/html": [
       "<div>\n",
       "<style scoped>\n",
       "    .dataframe tbody tr th:only-of-type {\n",
       "        vertical-align: middle;\n",
       "    }\n",
       "\n",
       "    .dataframe tbody tr th {\n",
       "        vertical-align: top;\n",
       "    }\n",
       "\n",
       "    .dataframe thead th {\n",
       "        text-align: right;\n",
       "    }\n",
       "</style>\n",
       "<table border=\"1\" class=\"dataframe\">\n",
       "  <thead>\n",
       "    <tr style=\"text-align: right;\">\n",
       "      <th></th>\n",
       "      <th>feature</th>\n",
       "      <th>importance</th>\n",
       "    </tr>\n",
       "  </thead>\n",
       "  <tbody>\n",
       "    <tr>\n",
       "      <th>3</th>\n",
       "      <td>DUR_MID</td>\n",
       "      <td>0.521528</td>\n",
       "    </tr>\n",
       "    <tr>\n",
       "      <th>1</th>\n",
       "      <td>PROBABILITY</td>\n",
       "      <td>0.211589</td>\n",
       "    </tr>\n",
       "    <tr>\n",
       "      <th>2</th>\n",
       "      <td>RSK_BB_IMPLIED_CDS_SPREAD</td>\n",
       "      <td>0.128479</td>\n",
       "    </tr>\n",
       "    <tr>\n",
       "      <th>0</th>\n",
       "      <td>DEBT_EBITDA</td>\n",
       "      <td>0.085554</td>\n",
       "    </tr>\n",
       "    <tr>\n",
       "      <th>6</th>\n",
       "      <td>EV_TO_T12M_EBITDA</td>\n",
       "      <td>0.032579</td>\n",
       "    </tr>\n",
       "    <tr>\n",
       "      <th>5</th>\n",
       "      <td>AMT_OUTSTANDING</td>\n",
       "      <td>0.011550</td>\n",
       "    </tr>\n",
       "    <tr>\n",
       "      <th>4</th>\n",
       "      <td>GUARANTOR</td>\n",
       "      <td>0.008722</td>\n",
       "    </tr>\n",
       "  </tbody>\n",
       "</table>\n",
       "</div>"
      ],
      "text/plain": [
       "                     feature  importance\n",
       "3                    DUR_MID    0.521528\n",
       "1                PROBABILITY    0.211589\n",
       "2  RSK_BB_IMPLIED_CDS_SPREAD    0.128479\n",
       "0                DEBT_EBITDA    0.085554\n",
       "6          EV_TO_T12M_EBITDA    0.032579\n",
       "5            AMT_OUTSTANDING    0.011550\n",
       "4                  GUARANTOR    0.008722"
      ]
     },
     "execution_count": 97,
     "metadata": {},
     "output_type": "execute_result"
    }
   ],
   "source": [
    "# \"Gini importance\" of each feature\n",
    "importance = pd.DataFrame({'feature':feature_cols, 'importance':treereg.feature_importances_})\n",
    "importance_sorted = importance.sort_values(by='importance', ascending=False)\n",
    "importance_sorted"
   ]
  },
  {
   "cell_type": "markdown",
   "metadata": {},
   "source": [
    "### Testing the Model Validity with Randomly Chosen Testing Data"
   ]
  },
  {
   "cell_type": "code",
   "execution_count": 154,
   "metadata": {},
   "outputs": [],
   "source": [
    "test = df.sample(n=10)"
   ]
  },
  {
   "cell_type": "code",
   "execution_count": 109,
   "metadata": {},
   "outputs": [
    {
     "data": {
      "text/plain": [
       "array([103.99893423, 194.16659413, 227.04476962,  81.09773918,\n",
       "        69.54397578, 176.7545826 , 127.69431578, 267.0797249 ,\n",
       "        97.0185886 ,  68.61131288])"
      ]
     },
     "execution_count": 109,
     "metadata": {},
     "output_type": "execute_result"
    }
   ],
   "source": [
    "X_test = test[feature_cols]\n",
    "y_test = test.target\n",
    "y_pred = treereg.predict(X_test)\n",
    "\n",
    "y_pred"
   ]
  },
  {
   "cell_type": "code",
   "execution_count": 110,
   "metadata": {
    "scrolled": true
   },
   "outputs": [
    {
     "data": {
      "text/plain": [
       "67.08607584662892"
      ]
     },
     "execution_count": 110,
     "metadata": {},
     "output_type": "execute_result"
    }
   ],
   "source": [
    "np.sqrt(metrics.mean_squared_error(y_test, y_pred))"
   ]
  },
  {
   "cell_type": "code",
   "execution_count": null,
   "metadata": {},
   "outputs": [],
   "source": []
  }
 ],
 "metadata": {
  "kernelspec": {
   "display_name": "Python 3",
   "language": "python",
   "name": "python3"
  }
 },
 "nbformat": 4,
 "nbformat_minor": 2
}
